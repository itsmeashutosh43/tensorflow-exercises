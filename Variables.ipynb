{
 "cells": [
  {
   "cell_type": "markdown",
   "metadata": {},
   "source": [
    "# Variables"
   ]
  },
  {
   "cell_type": "code",
   "execution_count": 1,
   "metadata": {},
   "outputs": [],
   "source": [
    "from __future__ import print_function\n",
    "import tensorflow as tf\n",
    "import numpy as np\n",
    "import matplotlib.pyplot as plt\n",
    "%matplotlib inline"
   ]
  },
  {
   "cell_type": "code",
   "execution_count": 10,
   "metadata": {},
   "outputs": [
    {
     "name": "stdout",
     "output_type": "stream",
     "text": [
      "WARNING:tensorflow:From /home/ashutosh/.local/lib/python3.6/site-packages/tensorflow_core/python/compat/v2_compat.py:88: disable_resource_variables (from tensorflow.python.ops.variable_scope) is deprecated and will be removed in a future version.\n",
      "Instructions for updating:\n",
      "non-resource variables are not supported in the long term\n"
     ]
    }
   ],
   "source": [
    "import tensorflow.compat.v1 as tf\n",
    "tf.disable_v2_behavior()"
   ]
  },
  {
   "cell_type": "code",
   "execution_count": 11,
   "metadata": {},
   "outputs": [
    {
     "data": {
      "text/plain": [
       "datetime.date(2020, 3, 25)"
      ]
     },
     "execution_count": 11,
     "metadata": {},
     "output_type": "execute_result"
    }
   ],
   "source": [
    "from datetime import date\n",
    "date.today()"
   ]
  },
  {
   "cell_type": "code",
   "execution_count": null,
   "metadata": {},
   "outputs": [],
   "source": []
  },
  {
   "cell_type": "code",
   "execution_count": 12,
   "metadata": {},
   "outputs": [
    {
     "data": {
      "text/plain": [
       "'2.1.0'"
      ]
     },
     "execution_count": 12,
     "metadata": {},
     "output_type": "execute_result"
    }
   ],
   "source": [
    "tf.__version__"
   ]
  },
  {
   "cell_type": "code",
   "execution_count": 13,
   "metadata": {},
   "outputs": [
    {
     "data": {
      "text/plain": [
       "'1.18.1'"
      ]
     },
     "execution_count": 13,
     "metadata": {},
     "output_type": "execute_result"
    }
   ],
   "source": [
    "np.__version__"
   ]
  },
  {
   "cell_type": "markdown",
   "metadata": {},
   "source": [
    "NOTE on notation\n",
    "\n",
    "    _x, _y, _z, ...: NumPy 0-d or 1-d arrays\n",
    "    _X, _Y, _Z, ...: NumPy 2-d or higer dimensional arrays\n",
    "    x, y, z, ...: 0-d or 1-d tensors\n",
    "    X, Y, Z, ...: 2-d or higher dimensional tensors\n"
   ]
  },
  {
   "cell_type": "markdown",
   "metadata": {},
   "source": [
    "## Variables "
   ]
  },
  {
   "cell_type": "markdown",
   "metadata": {},
   "source": [
    "Q0. Create a variable `w` with an initial value of 1.0 and name `weight`.\n",
    "Then, print out the value of `w`."
   ]
  },
  {
   "cell_type": "code",
   "execution_count": 14,
   "metadata": {},
   "outputs": [
    {
     "name": "stdout",
     "output_type": "stream",
     "text": [
      "<tf.Variable 'weight:0' shape=() dtype=int32_ref>\n"
     ]
    }
   ],
   "source": [
    "w = tf.Variable(1, name = \"weight\")\n",
    "print(w)"
   ]
  },
  {
   "cell_type": "markdown",
   "metadata": {},
   "source": [
    "Q1. Complete this code."
   ]
  },
  {
   "cell_type": "code",
   "execution_count": 16,
   "metadata": {},
   "outputs": [
    {
     "name": "stdout",
     "output_type": "stream",
     "text": [
      "1.0 =>2.0 =>3.0 =>4.0 =>5.0 =>6.0 =>7.0 =>8.0 =>9.0 =>10.0 =>"
     ]
    }
   ],
   "source": [
    "# Create a variable w.\n",
    "w = tf.Variable(1.0, name=\"Weight\")\n",
    "\n",
    "# Q. Add 1 to w and assign the value to w.\n",
    "assign_op = w.assign_add(1)\n",
    "\n",
    "with tf.Session() as sess:\n",
    "    sess.run(w.initializer)\n",
    "    for _ in range(10):\n",
    "        print(sess.run(w), \"=>\", end=\"\")\n",
    "        sess.run(assign_op)\n",
    "        \n"
   ]
  },
  {
   "cell_type": "markdown",
   "metadata": {},
   "source": [
    "Q2. Complete this code."
   ]
  },
  {
   "cell_type": "code",
   "execution_count": 18,
   "metadata": {},
   "outputs": [
    {
     "name": "stdout",
     "output_type": "stream",
     "text": [
      "6.0\n"
     ]
    }
   ],
   "source": [
    "w1 = tf.Variable(1.0)\n",
    "w2 = tf.Variable(2.0)\n",
    "w3 = tf.Variable(3.0)\n",
    "\n",
    "out = w1 + w2 + w3\n",
    "\n",
    "# Q. Add an Op to initialize global variables.\n",
    "init_op = tf.global_variables_initializer()\n",
    "\n",
    "with tf.Session() as sess:\n",
    "    sess.run(init_op) # Initialize all variables.\n",
    "    print(sess.run(out))\n"
   ]
  },
  {
   "cell_type": "markdown",
   "metadata": {
    "collapsed": true
   },
   "source": [
    "Q3-4. Complete this code."
   ]
  },
  {
   "cell_type": "code",
   "execution_count": 23,
   "metadata": {},
   "outputs": [
    {
     "name": "stdout",
     "output_type": "stream",
     "text": [
      "[[ 0.1879698  -0.42394763  0.3324586   1.7533396   0.04689448  1.1129321\n",
      "  -0.7771358   1.4826115   0.55861175  0.98849285]]\n",
      "[[ 0.3759396  -0.84789526  0.6649172   3.5066793   0.09378897  2.2258642\n",
      "  -1.5542716   2.965223    1.1172235   1.9769857 ]]\n",
      "[[ 0.3759396  -0.84789526  0.6649172   3.5066793   0.09378897  2.2258642\n",
      "  -1.5542716   2.965223    1.1172235   1.9769857 ]]\n"
     ]
    }
   ],
   "source": [
    "V = tf.Variable(tf.truncated_normal([1, 10]))\n",
    "# Q3. Initialize `W` with 2 * W\n",
    "W = tf.Variable(2* V.initialized_value())\n",
    "\n",
    "Z = 2*V\n",
    "\n",
    "# Q4. Add an Op to initialize global variables.\n",
    "init_op = tf.global_variables_initializer()\n",
    "with tf.Session() as sess:\n",
    "    sess.run(init_op) # Initialize all variables.\n",
    "    _V, _W,_Z = sess.run([V, W,Z])\n",
    "    print(_V)\n",
    "    print(_W)\n",
    "    print(_Z)\n",
    "    assert np.array_equiv(_V * 2.0, _W)\n",
    "\n",
    "# Compare the value of `W` with Z = 2 * V. "
   ]
  },
  {
   "cell_type": "markdown",
   "metadata": {
    "collapsed": true
   },
   "source": [
    "Q5-8. Complete this code."
   ]
  },
  {
   "cell_type": "code",
   "execution_count": 24,
   "metadata": {},
   "outputs": [
    {
     "name": "stdout",
     "output_type": "stream",
     "text": [
      "Q5. Weight:0\n",
      "Q6. Weight\n",
      "Q7. <dtype: 'float32_ref'>\n",
      "Q8. [2, 2]\n",
      "Q9. 2\n",
      "Q10. True\n"
     ]
    }
   ],
   "source": [
    "g = tf.Graph()\n",
    "with g.as_default():\n",
    "    W = tf.Variable([[0,1],[2,3]], name=\"Weight\", dtype=tf.float32)\n",
    "    # Q5. Print the name of `W`.\n",
    "    print(\"Q5.\", W.name)\n",
    "    # Q6. Print the name of the op of `W`.\n",
    "    print(\"Q6.\", W.op.name)\n",
    "    # Q7. Print the data type of `w`.\n",
    "    print(\"Q7.\", W.dtype)\n",
    "    # Q8. Print the shape of `w`.\n",
    "    print(\"Q8.\", W.get_shape().as_list())\n",
    "    # Q9. Print the rank (or ndims) of `W`.\n",
    "    print(\"Q9.\", W.get_shape().ndims)\n",
    "    # Q10. Check if the graph of `W` is the same as `g`.\n",
    "    print(\"Q10.\", W.graph == g)\n"
   ]
  },
  {
   "cell_type": "markdown",
   "metadata": {
    "collapsed": true
   },
   "source": [
    "## Variable helper functions "
   ]
  },
  {
   "cell_type": "markdown",
   "metadata": {},
   "source": [
    "Q11-15. Complete this code."
   ]
  },
  {
   "cell_type": "code",
   "execution_count": 25,
   "metadata": {},
   "outputs": [
    {
     "name": "stdout",
     "output_type": "stream",
     "text": [
      "global variable => weight1:0\n",
      "global variable => weight2:0\n",
      "global variable => weight3:0\n",
      "trainable_variable => weight1:0\n",
      "trainable_variable => weight3:0\n"
     ]
    }
   ],
   "source": [
    "tf.reset_default_graph()\n",
    "\n",
    "w1 = tf.Variable(1.0, name=\"weight1\")\n",
    "w2 = tf.Variable(2.0, name=\"weight2\", trainable=False)\n",
    "w3 = tf.Variable(3.0, name=\"weight3\")\n",
    "\n",
    "with tf.Session() as sess:\n",
    "    # Q11. Initialize the variables w1 and w2.\n",
    "    init_op = tf.variables_initializer([w1,w2])\n",
    "    sess.run(init_op)\n",
    "    \n",
    "    # Q12. Print the name of all global variables \n",
    "    for v in tf.global_variables():\n",
    "        print(\"global variable =>\", v.name)\n",
    "    \n",
    "    # Q13. Print the name of all trainable variables\n",
    "    for v in tf.trainable_variables():\n",
    "        print(\"trainable_variable =>\", v.name)\n",
    "    \n",
    "        \n"
   ]
  },
  {
   "cell_type": "markdown",
   "metadata": {
    "collapsed": true
   },
   "source": [
    "## Saving and Restoring Variables "
   ]
  },
  {
   "cell_type": "markdown",
   "metadata": {},
   "source": [
    "Q14-15. This is a simple example code to find the coefficient of a linear function. (Here y = 2x).\n",
    "Complete the code."
   ]
  },
  {
   "cell_type": "code",
   "execution_count": 28,
   "metadata": {},
   "outputs": [
    {
     "name": "stdout",
     "output_type": "stream",
     "text": [
      "1.0544442 =>WARNING:tensorflow:Issue encountered when serializing variables.\n",
      "Type is unsupported, or the types of the items don't match field type in CollectionDef. Note this is a warning and probably safe to ignore.\n",
      "'weight' has type str, but expected one of: int, long, bool\n",
      "WARNING:tensorflow:Issue encountered when serializing trainable_variables.\n",
      "Type is unsupported, or the types of the items don't match field type in CollectionDef. Note this is a warning and probably safe to ignore.\n",
      "'weight' has type str, but expected one of: int, long, bool\n",
      "Saved successfully\n",
      "1.5201327 =>WARNING:tensorflow:Issue encountered when serializing variables.\n",
      "Type is unsupported, or the types of the items don't match field type in CollectionDef. Note this is a warning and probably safe to ignore.\n",
      "'weight' has type str, but expected one of: int, long, bool\n",
      "WARNING:tensorflow:Issue encountered when serializing trainable_variables.\n",
      "Type is unsupported, or the types of the items don't match field type in CollectionDef. Note this is a warning and probably safe to ignore.\n",
      "'weight' has type str, but expected one of: int, long, bool\n",
      "Saved successfully\n",
      "1.7461852 =>WARNING:tensorflow:Issue encountered when serializing variables.\n",
      "Type is unsupported, or the types of the items don't match field type in CollectionDef. Note this is a warning and probably safe to ignore.\n",
      "'weight' has type str, but expected one of: int, long, bool\n",
      "WARNING:tensorflow:Issue encountered when serializing trainable_variables.\n",
      "Type is unsupported, or the types of the items don't match field type in CollectionDef. Note this is a warning and probably safe to ignore.\n",
      "'weight' has type str, but expected one of: int, long, bool\n",
      "Saved successfully\n",
      "1.8660704 =>WARNING:tensorflow:Issue encountered when serializing variables.\n",
      "Type is unsupported, or the types of the items don't match field type in CollectionDef. Note this is a warning and probably safe to ignore.\n",
      "'weight' has type str, but expected one of: int, long, bool\n",
      "WARNING:tensorflow:Issue encountered when serializing trainable_variables.\n",
      "Type is unsupported, or the types of the items don't match field type in CollectionDef. Note this is a warning and probably safe to ignore.\n",
      "'weight' has type str, but expected one of: int, long, bool\n",
      "Saved successfully\n",
      "1.9332498 =>WARNING:tensorflow:Issue encountered when serializing variables.\n",
      "Type is unsupported, or the types of the items don't match field type in CollectionDef. Note this is a warning and probably safe to ignore.\n",
      "'weight' has type str, but expected one of: int, long, bool\n",
      "WARNING:tensorflow:Issue encountered when serializing trainable_variables.\n",
      "Type is unsupported, or the types of the items don't match field type in CollectionDef. Note this is a warning and probably safe to ignore.\n",
      "'weight' has type str, but expected one of: int, long, bool\n",
      "Saved successfully\n",
      "1.9668709 =>WARNING:tensorflow:Issue encountered when serializing variables.\n",
      "Type is unsupported, or the types of the items don't match field type in CollectionDef. Note this is a warning and probably safe to ignore.\n",
      "'weight' has type str, but expected one of: int, long, bool\n",
      "WARNING:tensorflow:Issue encountered when serializing trainable_variables.\n",
      "Type is unsupported, or the types of the items don't match field type in CollectionDef. Note this is a warning and probably safe to ignore.\n",
      "'weight' has type str, but expected one of: int, long, bool\n",
      "Saved successfully\n",
      "1.9832531 =>WARNING:tensorflow:Issue encountered when serializing variables.\n",
      "Type is unsupported, or the types of the items don't match field type in CollectionDef. Note this is a warning and probably safe to ignore.\n",
      "'weight' has type str, but expected one of: int, long, bool\n",
      "WARNING:tensorflow:Issue encountered when serializing trainable_variables.\n",
      "Type is unsupported, or the types of the items don't match field type in CollectionDef. Note this is a warning and probably safe to ignore.\n",
      "'weight' has type str, but expected one of: int, long, bool\n",
      "Saved successfully\n",
      "1.9914223 =>WARNING:tensorflow:Issue encountered when serializing variables.\n",
      "Type is unsupported, or the types of the items don't match field type in CollectionDef. Note this is a warning and probably safe to ignore.\n",
      "'weight' has type str, but expected one of: int, long, bool\n",
      "WARNING:tensorflow:Issue encountered when serializing trainable_variables.\n",
      "Type is unsupported, or the types of the items don't match field type in CollectionDef. Note this is a warning and probably safe to ignore.\n",
      "'weight' has type str, but expected one of: int, long, bool\n",
      "Saved successfully\n",
      "1.9956807 =>WARNING:tensorflow:Issue encountered when serializing variables.\n",
      "Type is unsupported, or the types of the items don't match field type in CollectionDef. Note this is a warning and probably safe to ignore.\n",
      "'weight' has type str, but expected one of: int, long, bool\n",
      "WARNING:tensorflow:Issue encountered when serializing trainable_variables.\n",
      "Type is unsupported, or the types of the items don't match field type in CollectionDef. Note this is a warning and probably safe to ignore.\n",
      "'weight' has type str, but expected one of: int, long, bool\n",
      "Saved successfully\n",
      "1.9978143 =>WARNING:tensorflow:Issue encountered when serializing variables.\n",
      "Type is unsupported, or the types of the items don't match field type in CollectionDef. Note this is a warning and probably safe to ignore.\n",
      "'weight' has type str, but expected one of: int, long, bool\n",
      "WARNING:tensorflow:Issue encountered when serializing trainable_variables.\n",
      "Type is unsupported, or the types of the items don't match field type in CollectionDef. Note this is a warning and probably safe to ignore.\n",
      "'weight' has type str, but expected one of: int, long, bool\n",
      "Saved successfully\n",
      "['my_model-8000.index', 'my_model-6000.index', 'my_model-10000.index', 'my_model-6000.meta', 'my_model-7000.meta', 'my_model-10000.meta', 'my_model-8000.meta', 'my_model-9000.meta', 'my_model-9000.index', 'my_model-7000.index', 'my_model-7000.data-00000-of-00001', 'my_model-9000.data-00000-of-00001', 'my_model-8000.data-00000-of-00001', 'my_model-10000.data-00000-of-00001', 'checkpoint', 'my_model-6000.data-00000-of-00001']\n",
      "model/my_model-10000\n",
      "INFO:tensorflow:Restoring parameters from model/my_model-10000\n",
      "Restored succesfully!\n"
     ]
    }
   ],
   "source": [
    "tf.reset_default_graph()\n",
    "w = tf.Variable(0.2, 'weight', dtype = tf.float32) # <- This is what we want to find. The true value is 2.\n",
    "x = tf.random_uniform([1])\n",
    "y = 2. * x # Let's pretend we don't know the coefficient 2 here.\n",
    "y_hat = w * x\n",
    "loss = tf.squared_difference(y, y_hat)\n",
    "train_op = tf.train.GradientDescentOptimizer(0.001).minimize(loss)\n",
    "\n",
    "init_op = tf.global_variables_initializer()\n",
    "with tf.Session() as sess:\n",
    "    sess.run(init_op)\n",
    "    saver = tf.train.Saver()\n",
    "    for step in range(1, 10001):\n",
    "        sess.run(train_op)\n",
    "        \n",
    "        import os\n",
    "        if not os.path.exists('model'): os.mkdir('model') # Let's make a folder in order not to discrupt our current folder.\n",
    "            \n",
    "        if step % 1000 == 0:\n",
    "            print(sess.run(w), \"=>\", end=\"\")\n",
    "            \n",
    "            # Q14. Save the checkpoint file, giving it a base name of `model/my-model`\n",
    "            ckpt = saver.save(sess,'model/my_model',global_step = step)\n",
    "            print(\"Saved successfully\")\n",
    "    \n",
    "    print(os.listdir('model'))\n",
    "    # Q15. Find the filename of the latest saved checkpoint file.\n",
    "    # And if it exists, restore it.\n",
    "    ckpt = tf.train.latest_checkpoint('model')\n",
    "    print(ckpt)\n",
    "    if ckpt is not None:\n",
    "        saver.restore(sess,ckpt)\n",
    "        print(\"Restored succesfully!\")\n",
    "    \n",
    "    \n"
   ]
  },
  {
   "cell_type": "markdown",
   "metadata": {},
   "source": [
    "## Sharing Variables "
   ]
  },
  {
   "cell_type": "markdown",
   "metadata": {},
   "source": [
    "Q16. Complete this code."
   ]
  },
  {
   "cell_type": "code",
   "execution_count": 31,
   "metadata": {},
   "outputs": [],
   "source": [
    "g = tf.Graph()\n",
    "with g.as_default():\n",
    "    with tf.variable_scope(\"foo\"):\n",
    "        v = tf.get_variable(\"vv\", [1,])  # v.name == \"foo/vv:0\"\n",
    "        \n",
    "    #Q. Get the existing variable `v`\n",
    "    with tf.variable_scope(\"foo\", reuse = True):\n",
    "        v1 = tf.get_variable(\"vv\",[1,])\n",
    "\n",
    "assert v1 == v    "
   ]
  },
  {
   "cell_type": "markdown",
   "metadata": {},
   "source": [
    "Q17. Predict the result of this code."
   ]
  },
  {
   "cell_type": "code",
   "execution_count": 32,
   "metadata": {},
   "outputs": [
    {
     "name": "stdout",
     "output_type": "stream",
     "text": [
      "v.name = foo/bar/vv:0\n"
     ]
    }
   ],
   "source": [
    "with tf.variable_scope(\"foo\"):\n",
    "    with tf.variable_scope(\"bar\"):\n",
    "        v = tf.get_variable(\"vv\", [1])\n",
    "        print(\"v.name =\", v.name)"
   ]
  },
  {
   "cell_type": "markdown",
   "metadata": {},
   "source": [
    "Q18. Complete this code."
   ]
  },
  {
   "cell_type": "code",
   "execution_count": 34,
   "metadata": {},
   "outputs": [
    {
     "name": "stdout",
     "output_type": "stream",
     "text": [
      "x =\n",
      " [[0. 1. 2. 3.]\n",
      " [4. 5. 6. 7.]]\n"
     ]
    }
   ],
   "source": [
    "value = [0, 1, 2, 3, 4, 5, 6, 7]\n",
    "# Q. Create an initializer with `value`.\n",
    "init = tf.constant_initializer(value)\n",
    "\n",
    "tf.reset_default_graph()\n",
    "x = tf.get_variable('x', shape=[2, 4], initializer=init)\n",
    "\n",
    "with tf.Session() as sess:\n",
    "    sess.run(x.initializer)\n",
    "    print(\"x =\\n\", sess.run(x))\n"
   ]
  },
  {
   "cell_type": "markdown",
   "metadata": {},
   "source": [
    "Q19. Complete this code."
   ]
  },
  {
   "cell_type": "code",
   "execution_count": 39,
   "metadata": {},
   "outputs": [
    {
     "name": "stdout",
     "output_type": "stream",
     "text": [
      "Make sure the mean 0.010271651 is close to 0\n",
      "Make sure the standard deviation 2.004233 is close to 2\n"
     ]
    }
   ],
   "source": [
    "# Q. Create an initializer with a normal distribution of mean equals 0 and standard deviation equals 2.\n",
    "init = tf.random_normal_initializer(mean = 0,stddev = 2)\n",
    "\n",
    "tf.reset_default_graph()\n",
    "x = tf.get_variable('x', shape=[10, 1000], initializer=init)\n",
    "\n",
    "with tf.Session():\n",
    "    x.initializer.run()\n",
    "    _x = x.eval()\n",
    "    print(\"Make sure the mean\", np.mean(_x), \"is close to 0\" )\n",
    "    print(\"Make sure the standard deviation\", np.std(_x), \"is close to 2\" )\n",
    "    \n"
   ]
  },
  {
   "cell_type": "markdown",
   "metadata": {},
   "source": [
    "Q20. Complete this code."
   ]
  },
  {
   "cell_type": "code",
   "execution_count": 40,
   "metadata": {},
   "outputs": [
    {
     "data": {
      "image/png": "[encoded data removed]",
      "text/plain": [
       "<Figure size 432x288 with 1 Axes>"
      ]
     },
     "metadata": {
      "needs_background": "light"
     },
     "output_type": "display_data"
    }
   ],
   "source": [
    "# Q. Create an initializer with a truncated normal distribution of mean equals 0 and standard deviation equals 2.\n",
    "init = tf.truncated_normal_initializer(mean =2 , stddev =2)\n",
    "\n",
    "tf.reset_default_graph()\n",
    "x = tf.get_variable('x', shape=[1000,], initializer=init)\n",
    "\n",
    "with tf.Session():\n",
    "    x.initializer.run()\n",
    "    _x = x.eval()\n",
    "    plt.scatter(np.arange(1000), _x)\n",
    "    _avg = np.array([np.mean(_x)] * 1000)\n",
    "    _std = np.array([np.std(_x)] * 1000)\n",
    "    plt.plot(np.arange(1000), _avg, 'r-')\n",
    "    plt.plot(np.arange(1000), _avg + 2*_std, 'g-')\n",
    "    plt.plot(np.arange(1000), _avg - 2*_std, 'k-')\n",
    "    plt.legend(['mean', 'upper 2*std', 'lower 2*std'])\n",
    "    plt.show()\n",
    "# Note that few data points exceed the bounaries.\n"
   ]
  },
  {
   "cell_type": "markdown",
   "metadata": {},
   "source": [
    "Q21. Complete this code."
   ]
  },
  {
   "cell_type": "code",
   "execution_count": 41,
   "metadata": {},
   "outputs": [
    {
     "name": "stderr",
     "output_type": "stream",
     "text": [
      "/home/ashutosh/.local/lib/python3.6/site-packages/ipykernel_launcher.py:10: MatplotlibDeprecationWarning: \n",
      "The 'normed' kwarg was deprecated in Matplotlib 2.1 and will be removed in 3.1. Use 'density' instead.\n",
      "  # Remove the CWD from sys.path while we load stuff.\n"
     ]
    },
    {
     "data": {
      "image/png": "[encoded data removed]",
      "text/plain": [
       "<Figure size 432x288 with 1 Axes>"
      ]
     },
     "metadata": {
      "needs_background": "light"
     },
     "output_type": "display_data"
    }
   ],
   "source": [
    "# Q. Create an initializer with a random normal distribution of minimum 0 and maximum 1.\n",
    "init = tf.random_uniform_initializer(0,1)\n",
    "\n",
    "tf.reset_default_graph()\n",
    "x = tf.get_variable('x', shape=[5000,], initializer=init)\n",
    "\n",
    "with tf.Session():\n",
    "    x.initializer.run()\n",
    "    _x = x.eval()\n",
    "    count, bins, ignored = plt.hist(_x, 20, normed=True)\n",
    "    plt.plot(bins, np.ones_like(bins), linewidth=2, color='r')\n",
    "    plt.show()\n",
    "# Note that few data points exceed the bounaries.\n"
   ]
  },
  {
   "cell_type": "code",
   "execution_count": 44,
   "metadata": {},
   "outputs": [
    {
     "name": "stdout",
     "output_type": "stream",
     "text": [
      "Audio_Processing.ipynb\r\n",
      "Constants_Sequences_and_Random_Values.ipynb\r\n",
      "Constants_Sequences_and_Random_Values_Solutions.ipynb\r\n",
      "Control_Flow.ipynb\r\n",
      "Control_Flow_Solutions.ipynb\r\n",
      "figs\r\n",
      "Graph.ipynb\r\n",
      "Graph_Solutions.ipynb\r\n",
      "LICENSE\r\n",
      "Math_Part1.ipynb\r\n",
      "Math_Part1_Solutions.ipynb\r\n",
      "Math_Part2.ipynb\r\n",
      "Math_Part2_Solutions.ipynb\r\n",
      "Math_Part3.ipynb\r\n",
      "Math_Part3_Solutions.ipynb\r\n",
      "model\r\n",
      "Neural_Network_Part1.ipynb\r\n",
      "Neural_Network_Part1_Solutions.ipynb\r\n",
      "Neural_Network_Part2.ipynb\r\n",
      "Neural_Network_Part2_Solutions.ipynb\r\n",
      "Reading_Data.ipynb\r\n",
      "Reading_Data_Solutions.ipynb\r\n",
      "README.md\r\n",
      "Seq2Seq.ipynb\r\n",
      "Seq2Seq_solutions.ipynb\r\n",
      "Sparse_Tensors.ipynb\r\n",
      "Sparse_Tensors-Solutions.ipynb\r\n",
      "Tensor_Transformations.ipynb\r\n",
      "Tensor_Transformations_Solutions.ipynb\r\n",
      "Untitled.ipynb\r\n",
      "Variables.ipynb\r\n",
      "Variables_Solutions.ipynb\r\n"
     ]
    }
   ],
   "source": [
    "# Check other initializers such as zeros_initializer, ones_initializer, or orthogonal_initializer, as well.\n",
    "!ls"
   ]
  },
  {
   "cell_type": "markdown",
   "metadata": {
    "collapsed": true
   },
   "source": [
    "## Exporting and Importing Meta Graphs"
   ]
  },
  {
   "cell_type": "markdown",
   "metadata": {},
   "source": [
    "Q22. Complete the code. Make sure you've done questions 14-15."
   ]
  },
  {
   "cell_type": "code",
   "execution_count": 54,
   "metadata": {},
   "outputs": [
    {
     "name": "stdout",
     "output_type": "stream",
     "text": [
      "Of course, there're no variables since we reset the graph. See []\n",
      "INFO:tensorflow:Restoring parameters from model/my_model-10000\n"
     ]
    }
   ],
   "source": [
    "tf.reset_default_graph()\n",
    "print(\"Of course, there're no variables since we reset the graph. See\", tf.global_variables())\n",
    "with tf.Session() as sess:\n",
    "    # Q. Import the saved graph of `model/my-model-10000`.\n",
    "    new_saver = tf.train.import_meta_graph('model/my_model-10000.meta')\n",
    "    ckpt = tf.train.latest_checkpoint('model')\n",
    "    \n",
    "    new_saver.restore(sess, ckpt)\n",
    "    \n",
    "    for v in tf.global_variables():\n",
    "        print(\"Now we have a variable\", v.name)\n"
   ]
  },
  {
   "cell_type": "code",
   "execution_count": null,
   "metadata": {},
   "outputs": [],
   "source": []
  },
  {
   "cell_type": "code",
   "execution_count": null,
   "metadata": {},
   "outputs": [],
   "source": []
  },
  {
   "cell_type": "code",
   "execution_count": null,
   "metadata": {},
   "outputs": [],
   "source": []
  },
  {
   "cell_type": "code",
   "execution_count": null,
   "metadata": {},
   "outputs": [],
   "source": []
  }
 ],
 "metadata": {
  "anaconda-cloud": {},
  "kernelspec": {
   "display_name": "Python 3",
   "language": "python",
   "name": "python3"
  },
  "language_info": {
   "codemirror_mode": {
    "name": "ipython",
    "version": 3
   },
   "file_extension": ".py",
   "mimetype": "text/x-python",
   "name": "python",
   "nbconvert_exporter": "python",
   "pygments_lexer": "ipython3",
   "version": "3.6.9"
  }
 },
 "nbformat": 4,
 "nbformat_minor": 1
}

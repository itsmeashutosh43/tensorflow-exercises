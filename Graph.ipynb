{
  "nbformat": 4,
  "nbformat_minor": 0,
  "metadata": {
    "anaconda-cloud": {},
    "kernelspec": {
      "display_name": "Python 2",
      "language": "python",
      "name": "python2"
    },
    "language_info": {
      "codemirror_mode": {
        "name": "ipython",
        "version": 2
      },
      "file_extension": ".py",
      "mimetype": "text/x-python",
      "name": "python",
      "nbconvert_exporter": "python",
      "pygments_lexer": "ipython2",
      "version": "2.7.6"
    },
    "colab": {
      "name": "Graph.ipynb",
      "provenance": []
    }
  },
  "cells": [
    {
      "cell_type": "code",
      "metadata": {
        "deletable": true,
        "editable": true,
        "id": "-Tjhi7EMfQOC",
        "colab_type": "code",
        "outputId": "f84aa31a-7ae8-410b-8fb2-91ab8e683556",
        "colab": {
          "base_uri": "https://localhost:8080/",
          "height": 64
        }
      },
      "source": [
        "from __future__ import print_function\n",
        "import numpy as np\n",
        "import tensorflow as tf"
      ],
      "execution_count": 0,
      "outputs": [
        {
          "output_type": "display_data",
          "data": {
            "text/plain": [
              "<IPython.core.display.HTML object>"
            ],
            "text/html": [
              "<p style=\"color: red;\">\n",
              "The default version of TensorFlow in Colab will switch to TensorFlow 2.x on the 27th of March, 2020.<br>\n",
              "We recommend you <a href=\"https://www.tensorflow.org/guide/migrate\" target=\"_blank\">upgrade</a> now\n",
              "or ensure your notebook will continue to use TensorFlow 1.x via the <code>%tensorflow_version 1.x</code> magic:\n",
              "<a href=\"https://colab.research.google.com/notebooks/tensorflow_version.ipynb\" target=\"_blank\">more info</a>.</p>\n"
            ]
          },
          "metadata": {
            "tags": []
          }
        }
      ]
    },
    {
      "cell_type": "code",
      "metadata": {
        "deletable": true,
        "editable": true,
        "id": "WSf0EAvifQOV",
        "colab_type": "code",
        "outputId": "f4af58a1-ec0a-4074-cc43-584ad71e5735",
        "colab": {
          "base_uri": "https://localhost:8080/",
          "height": 34
        }
      },
      "source": [
        "from datetime import date\n",
        "date.today()"
      ],
      "execution_count": 0,
      "outputs": [
        {
          "output_type": "execute_result",
          "data": {
            "text/plain": [
              "datetime.date(2020, 3, 25)"
            ]
          },
          "metadata": {
            "tags": []
          },
          "execution_count": 5
        }
      ]
    },
    {
      "cell_type": "code",
      "metadata": {
        "deletable": true,
        "editable": true,
        "id": "FUvgqJRSfQOl",
        "colab_type": "code",
        "colab": {}
      },
      "source": [
        ""
      ],
      "execution_count": 0,
      "outputs": []
    },
    {
      "cell_type": "code",
      "metadata": {
        "deletable": true,
        "editable": true,
        "id": "mNnrhSRhfQOw",
        "colab_type": "code",
        "outputId": "a98b4a3b-1513-4ed5-c562-a448eba017f2",
        "colab": {
          "base_uri": "https://localhost:8080/",
          "height": 34
        }
      },
      "source": [
        "tf.__version__"
      ],
      "execution_count": 0,
      "outputs": [
        {
          "output_type": "execute_result",
          "data": {
            "text/plain": [
              "'1.15.0'"
            ]
          },
          "metadata": {
            "tags": []
          },
          "execution_count": 6
        }
      ]
    },
    {
      "cell_type": "code",
      "metadata": {
        "deletable": true,
        "editable": true,
        "id": "4FND1H-OfQO_",
        "colab_type": "code",
        "outputId": "77ab4d29-ccd2-487f-b558-c4f8e006bd7f",
        "colab": {
          "base_uri": "https://localhost:8080/",
          "height": 34
        }
      },
      "source": [
        "np.__version__"
      ],
      "execution_count": 0,
      "outputs": [
        {
          "output_type": "execute_result",
          "data": {
            "text/plain": [
              "'1.16.4'"
            ]
          },
          "metadata": {
            "tags": []
          },
          "execution_count": 7
        }
      ]
    },
    {
      "cell_type": "markdown",
      "metadata": {
        "deletable": true,
        "editable": true,
        "id": "2H5xPwYVfQPO",
        "colab_type": "text"
      },
      "source": [
        "Q1-3. You are to implement the graph below. Complete the code."
      ]
    },
    {
      "cell_type": "markdown",
      "metadata": {
        "deletable": true,
        "editable": true,
        "id": "F9m6DsOvfQPT",
        "colab_type": "text"
      },
      "source": [
        "![](figs/fig1.png)"
      ]
    },
    {
      "cell_type": "code",
      "metadata": {
        "deletable": true,
        "editable": true,
        "id": "RTTLz0mgfQPV",
        "colab_type": "code",
        "outputId": "45a88418-9305-402e-dc5a-605dc0b72f82",
        "colab": {
          "base_uri": "https://localhost:8080/",
          "height": 69
        }
      },
      "source": [
        "# Q1. Create a graph\n",
        "g = tf.Graph()\n",
        "\n",
        "with g.as_default():\n",
        "    # Define inputs\n",
        "    with tf.name_scope(\"inputs\"):\n",
        "        a = tf.constant(2, tf.int32, name=\"a\")\n",
        "        b = tf.constant(3, tf.int32, name=\"b\")\n",
        "\n",
        "    # Ops\n",
        "    with tf.name_scope(\"ops\"):\n",
        "        c = tf.multiply(a, b, name=\"c\")\n",
        "        d = tf.add(a, b, name=\"d\")\n",
        "        e = tf.subtract(c, d, name=\"e\")\n",
        "\n",
        "# Q2. Start a session\n",
        "sess = tf.Session(graph = g)\n",
        "\n",
        "# Q3. Fetch c, d, e\n",
        "_c, _d, _e = sess.run(c),sess.run(d),sess.run(e)\n",
        "print(\"c =\", _c)\n",
        "print(\"d =\", _d)\n",
        "print(\"e =\", _e)\n",
        "\n",
        "# Close the session\n",
        "sess.close()"
      ],
      "execution_count": 0,
      "outputs": [
        {
          "output_type": "stream",
          "text": [
            "c = 6\n",
            "d = 5\n",
            "e = 1\n"
          ],
          "name": "stdout"
        }
      ]
    },
    {
      "cell_type": "markdown",
      "metadata": {
        "deletable": true,
        "editable": true,
        "id": "G3q3rDP1fQPd",
        "colab_type": "text"
      },
      "source": [
        "Q4-8. You are to implement the graph below. Complete the code."
      ]
    },
    {
      "cell_type": "markdown",
      "metadata": {
        "collapsed": true,
        "deletable": true,
        "editable": true,
        "id": "eiaEcWLUfQPe",
        "colab_type": "text"
      },
      "source": [
        "![](figs/fig3.png)"
      ]
    },
    {
      "cell_type": "code",
      "metadata": {
        "deletable": true,
        "editable": true,
        "id": "msTsUXOlfQPi",
        "colab_type": "code",
        "colab": {}
      },
      "source": [
        "tf.reset_default_graph()"
      ],
      "execution_count": 0,
      "outputs": []
    },
    {
      "cell_type": "code",
      "metadata": {
        "deletable": true,
        "editable": true,
        "id": "Sb9z44ZGfQPt",
        "colab_type": "code",
        "colab": {}
      },
      "source": [
        "# Define inputs\n",
        "a = tf.Variable(tf.random_uniform([]))\n",
        "b_pl = tf.placeholder(tf.float32, [None])\n",
        "\n",
        "# Ops\n",
        "c = a * b_pl\n",
        "d = a + b_pl\n",
        "e = tf.reduce_sum(c)\n",
        "f = tf.reduce_mean(d)\n",
        "g = e - f\n",
        "\n",
        "# initialize variable(s)\n",
        "init = tf.global_variables_initializer()\n",
        "\n",
        "# Update variable\n",
        "update_op = tf.assign(a, a + g)\n",
        "\n",
        "# Q4. Create a (summary) writer to `asset`\n",
        "writer = tf.summary.FileWriter('asset', tf.get_default_graph())\n",
        "\n",
        "#Q5. Add `a` to summary.scalar\n",
        "tf.summary.scalar(\"a\", a)\n",
        "\n",
        "#Q6. Add `c` and `d` to summary.histogram\n",
        "tf.summary.histogram(\"c\", c)\n",
        "tf.summary.histogram(\"d\", d)\n",
        "\n",
        "#Q7. Merge all summaries.\n",
        "summaries = tf.summary.merge_all()\n",
        "\n",
        "# Start a session\n",
        "sess = tf.Session()\n",
        "\n",
        "# Initialize Variable(s)\n",
        "sess.run(init)\n",
        "\n",
        "# Fetch the value of c, d, and e.\n",
        "for step in range(5):\n",
        "    _b = np.arange(10, dtype=np.float32)\n",
        "    _,summaries_proto = sess.run([update_op, summaries], feed_dict = {b_pl:_b})\n",
        "    \n",
        "    # Q8. Attach summaries_proto to TensorBoard.\n",
        "    writer.add_summary(summaries_proto, global_step=step)\n",
        "    \n",
        "# Close the session\n",
        "sess.close()"
      ],
      "execution_count": 0,
      "outputs": []
    },
    {
      "cell_type": "code",
      "metadata": {
        "deletable": true,
        "editable": true,
        "id": "tdxCLnVgfQP0",
        "colab_type": "code",
        "colab": {}
      },
      "source": [
        ""
      ],
      "execution_count": 0,
      "outputs": []
    }
  ]
}
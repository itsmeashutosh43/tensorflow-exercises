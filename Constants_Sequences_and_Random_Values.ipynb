{
  "nbformat": 4,
  "nbformat_minor": 0,
  "metadata": {
    "anaconda-cloud": {},
    "kernelspec": {
      "display_name": "Python 3",
      "language": "python",
      "name": "python3"
    },
    "language_info": {
      "codemirror_mode": {
        "name": "ipython",
        "version": 3
      },
      "file_extension": ".py",
      "mimetype": "text/x-python",
      "name": "python",
      "nbconvert_exporter": "python",
      "pygments_lexer": "ipython3",
      "version": "3.6.9"
    },
    "colab": {
      "name": "Constants_Sequences_and_Random_Values.ipynb",
      "provenance": [],
      "collapsed_sections": []
    }
  },
  "cells": [
    {
      "cell_type": "markdown",
      "metadata": {
        "id": "_Vh8AIn7VLQY",
        "colab_type": "text"
      },
      "source": [
        "# Constants_Sequences_and_Random_Values"
      ]
    },
    {
      "cell_type": "code",
      "metadata": {
        "id": "u4VbTB3TVLQg",
        "colab_type": "code",
        "colab": {}
      },
      "source": [
        "from __future__ import print_function\n",
        "import tensorflow as tf\n",
        "import numpy as np"
      ],
      "execution_count": 0,
      "outputs": []
    },
    {
      "cell_type": "code",
      "metadata": {
        "id": "NzPinONXVLQy",
        "colab_type": "code",
        "outputId": "e7f6216e-4b67-45ff-f1de-d873663015d1",
        "colab": {
          "base_uri": "https://localhost:8080/",
          "height": 34
        }
      },
      "source": [
        "from datetime import date\n",
        "date.today()"
      ],
      "execution_count": 0,
      "outputs": [
        {
          "output_type": "execute_result",
          "data": {
            "text/plain": [
              "datetime.date(2020, 3, 25)"
            ]
          },
          "metadata": {
            "tags": []
          },
          "execution_count": 23
        }
      ]
    },
    {
      "cell_type": "code",
      "metadata": {
        "id": "IZvZhQGXVLQ_",
        "colab_type": "code",
        "colab": {}
      },
      "source": [
        ""
      ],
      "execution_count": 0,
      "outputs": []
    },
    {
      "cell_type": "code",
      "metadata": {
        "id": "xDUH4OJiVLRJ",
        "colab_type": "code",
        "outputId": "be949695-1062-401d-e2d4-8fc2f9a3236e",
        "colab": {
          "base_uri": "https://localhost:8080/",
          "height": 34
        }
      },
      "source": [
        "tf.__version__"
      ],
      "execution_count": 0,
      "outputs": [
        {
          "output_type": "execute_result",
          "data": {
            "text/plain": [
              "'1.15.0'"
            ]
          },
          "metadata": {
            "tags": []
          },
          "execution_count": 24
        }
      ]
    },
    {
      "cell_type": "code",
      "metadata": {
        "id": "YFA5NvXmVLRS",
        "colab_type": "code",
        "outputId": "2110979d-815b-4f3f-a8d7-e0af2fb3265d",
        "colab": {
          "base_uri": "https://localhost:8080/",
          "height": 34
        }
      },
      "source": [
        "np.__version__"
      ],
      "execution_count": 0,
      "outputs": [
        {
          "output_type": "execute_result",
          "data": {
            "text/plain": [
              "'1.18.2'"
            ]
          },
          "metadata": {
            "tags": []
          },
          "execution_count": 25
        }
      ]
    },
    {
      "cell_type": "code",
      "metadata": {
        "id": "WgKvdQ6SVLRc",
        "colab_type": "code",
        "outputId": "a07726d8-eab7-4232-b42b-f72f3bd23906",
        "colab": {
          "base_uri": "https://localhost:8080/",
          "height": 72
        }
      },
      "source": [
        "sess = tf.InteractiveSession()"
      ],
      "execution_count": 0,
      "outputs": [
        {
          "output_type": "stream",
          "text": [
            "/tensorflow-1.15.0/python3.6/tensorflow_core/python/client/session.py:1750: UserWarning: An interactive session is already active. This can cause out-of-memory errors in some cases. You must explicitly call `InteractiveSession.close()` to release resources held by the other session(s).\n",
            "  warnings.warn('An interactive session is already active. This can '\n"
          ],
          "name": "stderr"
        }
      ]
    },
    {
      "cell_type": "markdown",
      "metadata": {
        "id": "zQiIIiT4VLRk",
        "colab_type": "text"
      },
      "source": [
        "NOTE on notation\n",
        "* _x, _y, _z, ...: NumPy 0-d or 1-d arrays\n",
        "* _X, _Y, _Z, ...: NumPy 2-d or higer dimensional arrays\n",
        "* x, y, z, ...: 0-d or 1-d tensors\n",
        "* X, Y, Z, ...: 2-d or higher dimensional tensors"
      ]
    },
    {
      "cell_type": "markdown",
      "metadata": {
        "id": "xaSCr1zDVLRl",
        "colab_type": "text"
      },
      "source": [
        "## Constant Value Tensors"
      ]
    },
    {
      "cell_type": "markdown",
      "metadata": {
        "id": "uyOMvoi4VLRo",
        "colab_type": "text"
      },
      "source": [
        "Q1. Create a tensor of the shape [2, 3] with all elements set to zero.\n"
      ]
    },
    {
      "cell_type": "code",
      "metadata": {
        "id": "GTXuW_TsVLR2",
        "colab_type": "code",
        "outputId": "2dbabe14-4f6c-4789-8fe8-20b9a460283f",
        "colab": {
          "base_uri": "https://localhost:8080/",
          "height": 52
        }
      },
      "source": [
        "answer = tf.zeros([2,3])\n",
        "answer.eval()"
      ],
      "execution_count": 0,
      "outputs": [
        {
          "output_type": "execute_result",
          "data": {
            "text/plain": [
              "array([[0., 0., 0.],\n",
              "       [0., 0., 0.]], dtype=float32)"
            ]
          },
          "metadata": {
            "tags": []
          },
          "execution_count": 27
        }
      ]
    },
    {
      "cell_type": "markdown",
      "metadata": {
        "id": "JpXz7vbkVLR_",
        "colab_type": "text"
      },
      "source": [
        "Q2. Let X be a tensor of [[1,2,3], [4,5,6]]. <br />Create a tensor of the same shape and dtype as X with all elements set to zero."
      ]
    },
    {
      "cell_type": "code",
      "metadata": {
        "id": "T_yLRTXnVLSB",
        "colab_type": "code",
        "outputId": "b7e3b3f2-5ee4-4a72-fc32-f0cba8e13a74",
        "colab": {
          "base_uri": "https://localhost:8080/",
          "height": 52
        }
      },
      "source": [
        "np_array = np.array([[1,2,3],[4,5,6]])\n",
        "tf_array = tf.convert_to_tensor(np_array)\n",
        "a = tf.zeros_like(tf_array)\n",
        "a.eval()"
      ],
      "execution_count": 0,
      "outputs": [
        {
          "output_type": "execute_result",
          "data": {
            "text/plain": [
              "array([[0, 0, 0],\n",
              "       [0, 0, 0]])"
            ]
          },
          "metadata": {
            "tags": []
          },
          "execution_count": 28
        }
      ]
    },
    {
      "cell_type": "markdown",
      "metadata": {
        "id": "T_q9tqH9VLSJ",
        "colab_type": "text"
      },
      "source": [
        "Q3. Create a tensor of shape [2, 3] with all elements set to one."
      ]
    },
    {
      "cell_type": "code",
      "metadata": {
        "id": "gG0Q0XvoVLSL",
        "colab_type": "code",
        "outputId": "88ebfcf8-224d-4042-a3e7-bae972340a2f",
        "colab": {
          "base_uri": "https://localhost:8080/",
          "height": 52
        }
      },
      "source": [
        "tf_array = tf.ones([2,3])\n",
        "tf_array.eval()"
      ],
      "execution_count": 0,
      "outputs": [
        {
          "output_type": "execute_result",
          "data": {
            "text/plain": [
              "array([[1., 1., 1.],\n",
              "       [1., 1., 1.]], dtype=float32)"
            ]
          },
          "metadata": {
            "tags": []
          },
          "execution_count": 29
        }
      ]
    },
    {
      "cell_type": "markdown",
      "metadata": {
        "id": "Wr-WeTCqVLSU",
        "colab_type": "text"
      },
      "source": [
        "Q4. Let X be a tensor of [[1,2,3], [4,5,6]]. <br />Create a tensor of the same shape and dtype as X with all elements set to one."
      ]
    },
    {
      "cell_type": "code",
      "metadata": {
        "id": "h-6ngHN6VLSW",
        "colab_type": "code",
        "outputId": "f99fa69c-ccd7-4912-e8ee-095fe8a2abf4",
        "colab": {
          "base_uri": "https://localhost:8080/",
          "height": 52
        }
      },
      "source": [
        "np_array = np.array([[1,2,3],[4,5,6]])\n",
        "tf_array = tf.convert_to_tensor(np_array)\n",
        "tf_array_final = tf.ones_like(tf_array)\n",
        "tf_array_final.eval()"
      ],
      "execution_count": 0,
      "outputs": [
        {
          "output_type": "execute_result",
          "data": {
            "text/plain": [
              "array([[1, 1, 1],\n",
              "       [1, 1, 1]])"
            ]
          },
          "metadata": {
            "tags": []
          },
          "execution_count": 30
        }
      ]
    },
    {
      "cell_type": "markdown",
      "metadata": {
        "id": "sQWcVn3aVLSc",
        "colab_type": "text"
      },
      "source": [
        "Q5. Create a tensor of the shape [3, 2], with all elements of 5."
      ]
    },
    {
      "cell_type": "code",
      "metadata": {
        "id": "JtbwodkeVLSg",
        "colab_type": "code",
        "outputId": "e770b8fd-e3e3-4e79-a207-6bf2842ad732",
        "colab": {
          "base_uri": "https://localhost:8080/",
          "height": 69
        }
      },
      "source": [
        "tf_array = tf.zeros([3,2]) + 5\n",
        "tf_array.eval()"
      ],
      "execution_count": 0,
      "outputs": [
        {
          "output_type": "execute_result",
          "data": {
            "text/plain": [
              "array([[5., 5.],\n",
              "       [5., 5.],\n",
              "       [5., 5.]], dtype=float32)"
            ]
          },
          "metadata": {
            "tags": []
          },
          "execution_count": 31
        }
      ]
    },
    {
      "cell_type": "markdown",
      "metadata": {
        "id": "faWOVexCVLSn",
        "colab_type": "text"
      },
      "source": [
        "Q6. Create a constant tensor of [[1, 3, 5], [4, 6, 8]], with dtype=float32"
      ]
    },
    {
      "cell_type": "code",
      "metadata": {
        "id": "o4Q4hV5PVLSo",
        "colab_type": "code",
        "outputId": "17ffc3ee-8a8e-441e-fc84-e7190e451b8f",
        "colab": {
          "base_uri": "https://localhost:8080/",
          "height": 52
        }
      },
      "source": [
        "tf_constant = tf.constant([[1,3,5],[4,6,8]], dtype = np.float32)\n",
        "tf_constant.eval()"
      ],
      "execution_count": 0,
      "outputs": [
        {
          "output_type": "execute_result",
          "data": {
            "text/plain": [
              "array([[1., 3., 5.],\n",
              "       [4., 6., 8.]], dtype=float32)"
            ]
          },
          "metadata": {
            "tags": []
          },
          "execution_count": 32
        }
      ]
    },
    {
      "cell_type": "markdown",
      "metadata": {
        "id": "qR-RY_CMVLSv",
        "colab_type": "text"
      },
      "source": [
        "Q7. Create a constant tensor of the shape [2, 3], with all elements set to 4."
      ]
    },
    {
      "cell_type": "code",
      "metadata": {
        "id": "q--mGzciVLSx",
        "colab_type": "code",
        "outputId": "3f45d4b4-093a-4ce1-fd80-943f3c8b98a5",
        "colab": {
          "base_uri": "https://localhost:8080/",
          "height": 52
        }
      },
      "source": [
        "tf_constant = tf.constant(np.ones([2,3])*4)\n",
        "tf_constant.eval()"
      ],
      "execution_count": 0,
      "outputs": [
        {
          "output_type": "execute_result",
          "data": {
            "text/plain": [
              "array([[4., 4., 4.],\n",
              "       [4., 4., 4.]])"
            ]
          },
          "metadata": {
            "tags": []
          },
          "execution_count": 33
        }
      ]
    },
    {
      "cell_type": "code",
      "metadata": {
        "id": "bq-k5ezdb5LT",
        "colab_type": "code",
        "outputId": "4394725b-f3fe-4018-ab3a-d1b9657d1da6",
        "colab": {
          "base_uri": "https://localhost:8080/",
          "height": 607
        }
      },
      "source": [
        "step = 1/50\n",
        "np.arange(5,11,1/50)"
      ],
      "execution_count": 0,
      "outputs": [
        {
          "output_type": "execute_result",
          "data": {
            "text/plain": [
              "array([ 5.  ,  5.02,  5.04,  5.06,  5.08,  5.1 ,  5.12,  5.14,  5.16,\n",
              "        5.18,  5.2 ,  5.22,  5.24,  5.26,  5.28,  5.3 ,  5.32,  5.34,\n",
              "        5.36,  5.38,  5.4 ,  5.42,  5.44,  5.46,  5.48,  5.5 ,  5.52,\n",
              "        5.54,  5.56,  5.58,  5.6 ,  5.62,  5.64,  5.66,  5.68,  5.7 ,\n",
              "        5.72,  5.74,  5.76,  5.78,  5.8 ,  5.82,  5.84,  5.86,  5.88,\n",
              "        5.9 ,  5.92,  5.94,  5.96,  5.98,  6.  ,  6.02,  6.04,  6.06,\n",
              "        6.08,  6.1 ,  6.12,  6.14,  6.16,  6.18,  6.2 ,  6.22,  6.24,\n",
              "        6.26,  6.28,  6.3 ,  6.32,  6.34,  6.36,  6.38,  6.4 ,  6.42,\n",
              "        6.44,  6.46,  6.48,  6.5 ,  6.52,  6.54,  6.56,  6.58,  6.6 ,\n",
              "        6.62,  6.64,  6.66,  6.68,  6.7 ,  6.72,  6.74,  6.76,  6.78,\n",
              "        6.8 ,  6.82,  6.84,  6.86,  6.88,  6.9 ,  6.92,  6.94,  6.96,\n",
              "        6.98,  7.  ,  7.02,  7.04,  7.06,  7.08,  7.1 ,  7.12,  7.14,\n",
              "        7.16,  7.18,  7.2 ,  7.22,  7.24,  7.26,  7.28,  7.3 ,  7.32,\n",
              "        7.34,  7.36,  7.38,  7.4 ,  7.42,  7.44,  7.46,  7.48,  7.5 ,\n",
              "        7.52,  7.54,  7.56,  7.58,  7.6 ,  7.62,  7.64,  7.66,  7.68,\n",
              "        7.7 ,  7.72,  7.74,  7.76,  7.78,  7.8 ,  7.82,  7.84,  7.86,\n",
              "        7.88,  7.9 ,  7.92,  7.94,  7.96,  7.98,  8.  ,  8.02,  8.04,\n",
              "        8.06,  8.08,  8.1 ,  8.12,  8.14,  8.16,  8.18,  8.2 ,  8.22,\n",
              "        8.24,  8.26,  8.28,  8.3 ,  8.32,  8.34,  8.36,  8.38,  8.4 ,\n",
              "        8.42,  8.44,  8.46,  8.48,  8.5 ,  8.52,  8.54,  8.56,  8.58,\n",
              "        8.6 ,  8.62,  8.64,  8.66,  8.68,  8.7 ,  8.72,  8.74,  8.76,\n",
              "        8.78,  8.8 ,  8.82,  8.84,  8.86,  8.88,  8.9 ,  8.92,  8.94,\n",
              "        8.96,  8.98,  9.  ,  9.02,  9.04,  9.06,  9.08,  9.1 ,  9.12,\n",
              "        9.14,  9.16,  9.18,  9.2 ,  9.22,  9.24,  9.26,  9.28,  9.3 ,\n",
              "        9.32,  9.34,  9.36,  9.38,  9.4 ,  9.42,  9.44,  9.46,  9.48,\n",
              "        9.5 ,  9.52,  9.54,  9.56,  9.58,  9.6 ,  9.62,  9.64,  9.66,\n",
              "        9.68,  9.7 ,  9.72,  9.74,  9.76,  9.78,  9.8 ,  9.82,  9.84,\n",
              "        9.86,  9.88,  9.9 ,  9.92,  9.94,  9.96,  9.98, 10.  , 10.02,\n",
              "       10.04, 10.06, 10.08, 10.1 , 10.12, 10.14, 10.16, 10.18, 10.2 ,\n",
              "       10.22, 10.24, 10.26, 10.28, 10.3 , 10.32, 10.34, 10.36, 10.38,\n",
              "       10.4 , 10.42, 10.44, 10.46, 10.48, 10.5 , 10.52, 10.54, 10.56,\n",
              "       10.58, 10.6 , 10.62, 10.64, 10.66, 10.68, 10.7 , 10.72, 10.74,\n",
              "       10.76, 10.78, 10.8 , 10.82, 10.84, 10.86, 10.88, 10.9 , 10.92,\n",
              "       10.94, 10.96, 10.98])"
            ]
          },
          "metadata": {
            "tags": []
          },
          "execution_count": 36
        }
      ]
    },
    {
      "cell_type": "markdown",
      "metadata": {
        "id": "gKi7hPBLVLS3",
        "colab_type": "text"
      },
      "source": [
        "## Sequences"
      ]
    },
    {
      "cell_type": "markdown",
      "metadata": {
        "id": "_XJkxdyIVLS6",
        "colab_type": "text"
      },
      "source": [
        "Q8. Create a 1-D tensor of 50 evenly spaced elements between 5 and 10 inclusive."
      ]
    },
    {
      "cell_type": "code",
      "metadata": {
        "id": "-uSFzVROVLS8",
        "colab_type": "code",
        "outputId": "8de03aed-dacb-49d1-bc76-abf470e408bd",
        "colab": {
          "base_uri": "https://localhost:8080/",
          "height": 208
        }
      },
      "source": [
        "tf_array = tf.linspace(5.,10.,50)\n",
        "tf_array.eval()"
      ],
      "execution_count": 0,
      "outputs": [
        {
          "output_type": "execute_result",
          "data": {
            "text/plain": [
              "array([ 5.       ,  5.102041 ,  5.2040815,  5.3061223,  5.408163 ,\n",
              "        5.5102043,  5.612245 ,  5.714286 ,  5.8163266,  5.9183674,\n",
              "        6.020408 ,  6.122449 ,  6.2244897,  6.3265305,  6.4285717,\n",
              "        6.5306125,  6.632653 ,  6.734694 ,  6.836735 ,  6.9387755,\n",
              "        7.0408163,  7.142857 ,  7.244898 ,  7.346939 ,  7.44898  ,\n",
              "        7.5510206,  7.6530614,  7.755102 ,  7.857143 ,  7.9591837,\n",
              "        8.061225 ,  8.163265 ,  8.265306 ,  8.367347 ,  8.469388 ,\n",
              "        8.571428 ,  8.67347  ,  8.775511 ,  8.877551 ,  8.979592 ,\n",
              "        9.081633 ,  9.183674 ,  9.285714 ,  9.387755 ,  9.489796 ,\n",
              "        9.591837 ,  9.693878 ,  9.795918 ,  9.89796  , 10.       ],\n",
              "      dtype=float32)"
            ]
          },
          "metadata": {
            "tags": []
          },
          "execution_count": 38
        }
      ]
    },
    {
      "cell_type": "markdown",
      "metadata": {
        "id": "yazEUFduVLTC",
        "colab_type": "text"
      },
      "source": [
        "Q9. Create a tensor which looks like [10, 12, 14, 16, ..., 100]."
      ]
    },
    {
      "cell_type": "code",
      "metadata": {
        "id": "i4mcP-waVLTD",
        "colab_type": "code",
        "outputId": "41ba681e-8102-422d-e5d1-4aeb2e14e4ba",
        "colab": {
          "base_uri": "https://localhost:8080/",
          "height": 86
        }
      },
      "source": [
        "tf_array = tf.range(10,102,2)\n",
        "tf_array.eval()"
      ],
      "execution_count": 0,
      "outputs": [
        {
          "output_type": "execute_result",
          "data": {
            "text/plain": [
              "array([ 10,  12,  14,  16,  18,  20,  22,  24,  26,  28,  30,  32,  34,\n",
              "        36,  38,  40,  42,  44,  46,  48,  50,  52,  54,  56,  58,  60,\n",
              "        62,  64,  66,  68,  70,  72,  74,  76,  78,  80,  82,  84,  86,\n",
              "        88,  90,  92,  94,  96,  98, 100], dtype=int32)"
            ]
          },
          "metadata": {
            "tags": []
          },
          "execution_count": 41
        }
      ]
    },
    {
      "cell_type": "markdown",
      "metadata": {
        "id": "OadJahP3VLTK",
        "colab_type": "text"
      },
      "source": [
        "## Random Tensors"
      ]
    },
    {
      "cell_type": "markdown",
      "metadata": {
        "id": "FUBI1wB5VLTL",
        "colab_type": "text"
      },
      "source": [
        "Q10. Create a random tensor of the shape [3, 2], with elements from a normal distribution of mean=0, standard deviation=2."
      ]
    },
    {
      "cell_type": "code",
      "metadata": {
        "id": "cf0SKZEOVLTN",
        "colab_type": "code",
        "outputId": "1b9b058e-9155-4f3e-9167-bfc01b2291dd",
        "colab": {
          "base_uri": "https://localhost:8080/",
          "height": 69
        }
      },
      "source": [
        "tf_array = tf.random_normal([3,2],0,2)\n",
        "tf_array.eval()"
      ],
      "execution_count": 0,
      "outputs": [
        {
          "output_type": "execute_result",
          "data": {
            "text/plain": [
              "array([[ 3.330301  ,  0.30141428],\n",
              "       [-4.5812874 ,  0.47159314],\n",
              "       [ 0.57082874, -4.4772863 ]], dtype=float32)"
            ]
          },
          "metadata": {
            "tags": []
          },
          "execution_count": 43
        }
      ]
    },
    {
      "cell_type": "markdown",
      "metadata": {
        "id": "dEAgWqcPVLTT",
        "colab_type": "text"
      },
      "source": [
        "Q11. Create a random tensor of the shape [3, 2], with elements from a normal distribution of mean=0, standard deviation=1 such that any values don't exceed 2 standard deviations from the mean."
      ]
    },
    {
      "cell_type": "code",
      "metadata": {
        "id": "mdf4x6FwVLTU",
        "colab_type": "code",
        "outputId": "47810a3d-5a2d-4ba0-fd76-b25fc40e318b",
        "colab": {
          "base_uri": "https://localhost:8080/",
          "height": 69
        }
      },
      "source": [
        "tf_array = tf.truncated_normal([3,2])\n",
        "tf_array.eval()"
      ],
      "execution_count": 0,
      "outputs": [
        {
          "output_type": "execute_result",
          "data": {
            "text/plain": [
              "array([[ 1.4827082 , -0.52188975],\n",
              "       [-0.31008884,  1.5451634 ],\n",
              "       [-0.6395897 , -0.6191088 ]], dtype=float32)"
            ]
          },
          "metadata": {
            "tags": []
          },
          "execution_count": 44
        }
      ]
    },
    {
      "cell_type": "markdown",
      "metadata": {
        "id": "Ch1te93-VLTa",
        "colab_type": "text"
      },
      "source": [
        "Q12. Create a random tensor of the shape [3, 2], with all elements from a uniform distribution that ranges from 0 to 2 (exclusive)."
      ]
    },
    {
      "cell_type": "code",
      "metadata": {
        "id": "g0P2hOq9VLTb",
        "colab_type": "code",
        "outputId": "231c6177-a578-4caf-9f5f-4d61a8f602fb",
        "colab": {
          "base_uri": "https://localhost:8080/",
          "height": 69
        }
      },
      "source": [
        "tf_array = tf.random_uniform([3,2], 0, 2)\n",
        "tf_array.eval()\n"
      ],
      "execution_count": 0,
      "outputs": [
        {
          "output_type": "execute_result",
          "data": {
            "text/plain": [
              "array([[1.742218 , 1.551687 ],\n",
              "       [1.6161773, 1.2491107],\n",
              "       [1.9498134, 0.6859586]], dtype=float32)"
            ]
          },
          "metadata": {
            "tags": []
          },
          "execution_count": 45
        }
      ]
    },
    {
      "cell_type": "markdown",
      "metadata": {
        "id": "iGX8fL-BVLTi",
        "colab_type": "text"
      },
      "source": [
        "Q13. Let X be a tensor of [[1, 2], [3, 4], [5, 6]]. Shuffle X along its first dimension."
      ]
    },
    {
      "cell_type": "code",
      "metadata": {
        "id": "z2atRVQYVLTj",
        "colab_type": "code",
        "outputId": "fa652f31-61bb-487d-b223-861bab275b88",
        "colab": {
          "base_uri": "https://localhost:8080/",
          "height": 69
        }
      },
      "source": [
        "array = np.array([[1,2],[3,4],[5,6]])\n",
        "tf_array = tf.convert_to_tensor(array)\n",
        "out = tf.random_shuffle(tf_array)\n",
        "out.eval()"
      ],
      "execution_count": 0,
      "outputs": [
        {
          "output_type": "execute_result",
          "data": {
            "text/plain": [
              "array([[5, 6],\n",
              "       [3, 4],\n",
              "       [1, 2]])"
            ]
          },
          "metadata": {
            "tags": []
          },
          "execution_count": 46
        }
      ]
    },
    {
      "cell_type": "markdown",
      "metadata": {
        "id": "tBFWxUg1VLTn",
        "colab_type": "text"
      },
      "source": [
        "Q14. Let X be a random tensor of the shape [10, 10, 3], with elements from a unit normal distribution. Crop X with the shape of [5, 5, 3]."
      ]
    },
    {
      "cell_type": "code",
      "metadata": {
        "id": "PDpVrYA_VLTo",
        "colab_type": "code",
        "outputId": "ea57f3cb-83eb-4e8d-979f-ba2cbc155492",
        "colab": {
          "base_uri": "https://localhost:8080/",
          "height": 521
        }
      },
      "source": [
        "array = tf.random_uniform([10,10,3])\n",
        "cropped_array = tf.random_crop(array, [5,5,3])\n",
        "cropped_array.eval()"
      ],
      "execution_count": 0,
      "outputs": [
        {
          "output_type": "execute_result",
          "data": {
            "text/plain": [
              "array([[[0.82225645, 0.7126162 , 0.5473341 ],\n",
              "        [0.99407995, 0.63510203, 0.32453775],\n",
              "        [0.3889904 , 0.23787332, 0.1596582 ],\n",
              "        [0.05344427, 0.7890123 , 0.17584121],\n",
              "        [0.5417594 , 0.67034185, 0.9253694 ]],\n",
              "\n",
              "       [[0.5874196 , 0.10990787, 0.22874928],\n",
              "        [0.63281167, 0.8928981 , 0.43607986],\n",
              "        [0.88234556, 0.62071943, 0.93390095],\n",
              "        [0.34247434, 0.77789736, 0.8213917 ],\n",
              "        [0.07907379, 0.9691354 , 0.66736484]],\n",
              "\n",
              "       [[0.99916565, 0.76610136, 0.3401332 ],\n",
              "        [0.7787014 , 0.34238803, 0.7835252 ],\n",
              "        [0.02795553, 0.9958525 , 0.12405252],\n",
              "        [0.68296254, 0.7783307 , 0.7227143 ],\n",
              "        [0.5150864 , 0.73871887, 0.75623584]],\n",
              "\n",
              "       [[0.2799418 , 0.52360785, 0.04712784],\n",
              "        [0.93851864, 0.2607535 , 0.55659294],\n",
              "        [0.00814104, 0.50097716, 0.439942  ],\n",
              "        [0.0053215 , 0.6446624 , 0.01543629],\n",
              "        [0.37597156, 0.3429427 , 0.10240126]],\n",
              "\n",
              "       [[0.21484995, 0.7749523 , 0.6869402 ],\n",
              "        [0.8372936 , 0.20731771, 0.9708041 ],\n",
              "        [0.6542034 , 0.83580303, 0.06374979],\n",
              "        [0.7284436 , 0.57756174, 0.76134825],\n",
              "        [0.654529  , 0.6520989 , 0.56486094]]], dtype=float32)"
            ]
          },
          "metadata": {
            "tags": []
          },
          "execution_count": 48
        }
      ]
    },
    {
      "cell_type": "code",
      "metadata": {
        "id": "p-kw-2eBVLTs",
        "colab_type": "code",
        "colab": {}
      },
      "source": [
        ""
      ],
      "execution_count": 0,
      "outputs": []
    }
  ]
}